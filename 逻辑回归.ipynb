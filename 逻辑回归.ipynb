{
 "metadata": {
  "name": ""
 },
 "nbformat": 3,
 "nbformat_minor": 0,
 "worksheets": [
  {
   "cells": [
    {
     "cell_type": "markdown",
     "metadata": {},
     "source": [
      "#\u903b\u8f91\u56de\u5f52python\u5b9e\u73b0\n",
      "####\u53c2\u8003http://blog.csdn.net/u013524655/article/details/40918745"
     ]
    },
    {
     "cell_type": "code",
     "collapsed": false,
     "input": [
      "%matplotlib inline"
     ],
     "language": "python",
     "metadata": {},
     "outputs": [],
     "prompt_number": 3
    },
    {
     "cell_type": "markdown",
     "metadata": {},
     "source": [
      "###\u4e00\u90e8\u5206\u6d4b\u8bd5\u6570\u636e\u3000\u4e8c\u5206\u7c7b"
     ]
    },
    {
     "cell_type": "code",
     "collapsed": false,
     "input": [
      "-0.364009        4.747300        1\n",
      "-0.841722        4.119083        1\n",
      "0.490426        1.960539        1\n",
      "-0.007194        9.075792        0\n",
      "0.356107        12.447863        0\n",
      "0.342578        12.281162        0\n",
      "-0.810823        -1.466018        1\n",
      "2.530777        6.476801        1\n",
      "1.296683        11.607559        0\n",
      "0.475487        12.040035        0\n",
      "-0.783277        11.009725        0\n",
      "0.074798        11.023650        0\n",
      "-1.337472        0.468339        1\n",
      "-0.102781        13.763651        0\n",
      "-0.147324        2.874846        1\n",
      "0.518389        9.887035        0\n",
      "1.015399        7.571882        0\n",
      "-1.658086        -0.027255        1\n",
      "1.319944        2.171228        1"
     ],
     "language": "python",
     "metadata": {},
     "outputs": []
    },
    {
     "cell_type": "markdown",
     "metadata": {},
     "source": [
      "###\u4ee3\u7801"
     ]
    },
    {
     "cell_type": "code",
     "collapsed": false,
     "input": [
      "#coding:utf-8\n",
      "\n",
      "from numpy import *\n",
      "import matplotlib.pyplot as plt\n",
      "import time\n",
      "\n",
      "\n",
      "# sigmoid\u51fd\u6570\n",
      "def sigmoid(inX):\n",
      "        return 1.0 / (1 + exp(-inX))\n",
      "\n",
      "\n",
      "# \u4f7f\u7528\u53ef\u9009\u4f18\u5316\u7b97\u6cd5(optional optimize algorithm)\u6765\u8bad\u7ec3\u6570\u636e\n",
      "# \u8f93\u5165\uff1a train_x \u662f\u4e00\u4e2a\u77e9\u9635\uff0c\u6bcf\u4e00\u884c\u4ee3\u8868\u4e00\u4e2a\u6837\u672c\u3000\n",
      "#             train_y \u662f\u4e00\u4e2a\u77e9\u9635\uff0c\u6bcf\u4e00\u884c\u662f\u76f8\u5e94\u7684\u7c7b\u522b\u6807\u7b7e\n",
      "#             opts \u662f\u4e00\u4e2a\u4f18\u5316\u9009\u9879\uff0c\u5305\u62ec\u6b65\u957f\u548c\u8fed\u4ee3\u6b21\u6570\u7684\u6700\u5927\u503c \n",
      "def trainLogRegres(train_x, train_y, opts):\n",
      "        # \u8ba1\u7b97\u8bad\u7ec3\u65f6\u95f4\n",
      "        startTime = time.time()\n",
      "\n",
      "        numSamples, numFeatures = shape(train_x)\n",
      "        alpha = opts['alpha']; maxIter = opts['maxIter']\n",
      "        weights = ones((numFeatures, 1))\n",
      "\n",
      "        #\u7528\u68af\u5ea6\u4e0b\u964d\u7b97\u6cd5\u4f18\u5316\n",
      "        for k in range(maxIter):\n",
      "                if opts['optimizeType'] == 'gradDescent': # \u68af\u5ea6\u4e0b\u964d\u3000\n",
      "                        output = sigmoid(train_x * weights)\n",
      "                        error = train_y - output\n",
      "                        weights = weights + alpha * train_x.transpose() * error\n",
      "                elif opts['optimizeType'] == 'stocGradDescent': #\u968f\u673a\u68af\u5ea6\u4e0b\u964d\n",
      "                        for i in range(numSamples):\n",
      "                                output = sigmoid(train_x[i, :] * weights)\n",
      "                                error = train_y[i, 0] - output\n",
      "                                weights = weights + alpha * train_x[i, :].transpose() * error\n",
      "                elif opts['optimizeType'] == 'smoothStocGradDescent': # \u5149\u6ed1\u7684\u968f\u673a\u68af\u5ea6\u4e0b\u964d\n",
      "                        #\u968f\u673a\u9009\u62e9\u6837\u672c\uff0c\u51cf\u5c11\u7cfb\u6570\u7684\u5468\u671f\u6027\u6ce2\u52a8\u3000\n",
      "                        dataIndex = range(numSamples)\n",
      "                        for i in range(numSamples):\n",
      "                                alpha = 4.0 / (1.0 + k + i) + 0.01\n",
      "                                randIndex = int(random.uniform(0, len(dataIndex)))\n",
      "                                output = sigmoid(train_x[randIndex, :] * weights)\n",
      "                                error = train_y[randIndex, 0] - output\n",
      "                                weights = weights + alpha * train_x[randIndex, :].transpose() * error\n",
      "                                del(dataIndex[randIndex]) \n",
      "                else:\n",
      "                        raise NameError('Not support optimize method type!')\n",
      "\n",
      "\n",
      "        print '\u8bad\u7ec3\u6210\u529f\uff0c\u6240\u7528\u65f6\u95f4\u4e3a %fs!' % (time.time() - startTime)\n",
      "        return weights\n",
      "\n",
      "\n",
      "# \u7528\u6d4b\u8bd5\u96c6\u5408\u6d4b\u8bd5\u8bad\u7ec3\u597d\u7684\u903b\u8f91\u56de\u5f52\u6a21\u578b\n",
      "def testLogRegres(weights, test_x, test_y):\n",
      "        numSamples, numFeatures = shape(test_x)\n",
      "        matchCount = 0\n",
      "        for i in xrange(numSamples):\n",
      "                predict = sigmoid(test_x[i, :] * weights)[0, 0] > 0.5\n",
      "                if predict == bool(test_y[i, 0]):\n",
      "                        matchCount += 1\n",
      "        accuracy = float(matchCount) / numSamples\n",
      "        return accuracy\n",
      "\n",
      "\n",
      "# \u7528\uff12\u7ef4\u6570\u636e\u8868\u73b0\u8bad\u7ec3\u7684\u903b\u8f91\u56de\u5f52\u6a21\u578b\u3000\n",
      "def showLogRegres(weights, train_x, train_y):\n",
      "\n",
      "        numSamples, numFeatures = shape(train_x)\n",
      "        if numFeatures != 3:\n",
      "                print \"Sorry! I can not draw because the dimension of your data is not 2!\"\n",
      "                return 1\n",
      "\n",
      "        # \u5728\u56fe\u4e0a\u753b\u51fa\u6240\u6709\u7684\u6837\u672c\n",
      "        for i in xrange(numSamples):\n",
      "                if int(train_y[i, 0]) == 0:\n",
      "                        plt.plot(train_x[i, 1], train_x[i, 2], 'or')\n",
      "                elif int(train_y[i, 0]) == 1:\n",
      "                        plt.plot(train_x[i, 1], train_x[i, 2], 'ob')\n",
      "\n",
      "        # \u753b\u51fa\u5206\u754c\u7ebf\n",
      "        min_x = min(train_x[:, 1])[0, 0]\n",
      "        max_x = max(train_x[:, 1])[0, 0]\n",
      "        weights = weights.getA()  # \u628a\u77e9\u9635\u8f6c\u5316\u4e3a\u6570\u7ec4\n",
      "        y_min_x = float(-weights[0] - weights[1] * min_x) / weights[2]\n",
      "        y_max_x = float(-weights[0] - weights[1] * max_x) / weights[2]\n",
      "        plt.plot([min_x, max_x], [y_min_x, y_max_x], '-g')\n",
      "        plt.xlabel('X1'); plt.ylabel('X2')\n",
      "        plt.show()\n",
      "\n",
      "if __name__ == '__main__':\n",
      "     \n",
      "    from numpy import *\n",
      "    import matplotlib.pyplot as plt\n",
      "    import time\n",
      "    def loadData():\n",
      "        train_x = []\n",
      "        train_y = []\n",
      "        fileIn = open('/home/darou/\u6587\u6863/\u684c\u9762/LALALA/\u903b\u8f91\u56de\u5f52/LR_3/testSet.txt')\n",
      "        for line in fileIn.readlines():\n",
      "                lineArr = line.strip().split()\n",
      "                train_x.append([1.0, float(lineArr[0]), float(lineArr[1])])\n",
      "                train_y.append(float(lineArr[2]))\n",
      "        return mat(train_x), mat(train_y).transpose()\n",
      "\n",
      "\n",
      "# step 1: \u8bfb\u5165\u6570\u636e\n",
      "    print \"step 1: \u8bfb\u5165\u6570\u636e......\"\n",
      "    train_x, train_y = loadData()\n",
      "    test_x = train_x; test_y = train_y\n",
      "\n",
      "# step 2: \u8bad\u7ec3\n",
      "    print \"step 2: \u8bad\u7ec3.......\"\n",
      "    opts = {'alpha': 0.01, 'maxIter': 20, 'optimizeType': 'smoothStocGradDescent'}\n",
      "    optimalWeights = trainLogRegres(train_x, train_y, opts)\n",
      "\n",
      "# step 3: \u6d4b\u8bd5\n",
      "    print \"step 3: \u6d4b\u8bd5......\"\n",
      "    accuracy = testLogRegres(optimalWeights, test_x, test_y)\n",
      "\n",
      "# step 4:\u7ed3\u679c\n",
      "    print \"step 4: \u7ed3\u679c\"    \n",
      "    print '\u6b63\u786e\u7387: %.3f%%' % (accuracy * 100)\n",
      "    print '2\u7ef4\u56fe\u50cf\uff1a'\n",
      "    showLogRegres(optimalWeights, train_x, train_y) "
     ],
     "language": "python",
     "metadata": {},
     "outputs": [
      {
       "output_type": "stream",
       "stream": "stdout",
       "text": [
        "step 1: \u8bfb\u5165\u6570\u636e......\n",
        "step 2: \u8bad\u7ec3.......\n",
        "\u8bad\u7ec3\u6210\u529f\uff0c\u6240\u7528\u65f6\u95f4\u4e3a 0.092286s!"
       ]
      },
      {
       "output_type": "stream",
       "stream": "stdout",
       "text": [
        "\n",
        "step 3: \u6d4b\u8bd5......\n",
        "step 4: \u7ed3\u679c\n",
        "\u6b63\u786e\u7387: 93.000%\n",
        "2\u7ef4\u56fe\u50cf\uff1a\n"
       ]
      },
      {
       "metadata": {},
       "output_type": "display_data",
       "png": "[encoded data removed]",
       "text": [
        "<matplotlib.figure.Figure at 0x7f4029a3e990>"
       ]
      }
     ],
     "prompt_number": 4
    },
    {
     "cell_type": "code",
     "collapsed": false,
     "input": [],
     "language": "python",
     "metadata": {},
     "outputs": []
    }
   ],
   "metadata": {}
  }
 ]
}